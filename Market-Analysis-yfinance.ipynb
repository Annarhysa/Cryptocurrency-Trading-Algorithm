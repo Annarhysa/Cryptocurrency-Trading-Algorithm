{
 "cells": [
  {
   "cell_type": "code",
   "execution_count": 1,
   "metadata": {},
   "outputs": [],
   "source": [
    "import yfinance as yf\n",
    "import pandas as pd\n",
    "import matplotlib.pyplot as plt\n",
    "import numpy as np"
   ]
  },
  {
   "cell_type": "code",
   "execution_count": 5,
   "metadata": {},
   "outputs": [],
   "source": [
    "ticker = yf.Ticker(\"AAPL\")\n",
    "history = ticker.history(period=\"max\")\n",
    "latest_date = history.tail(1).index[0]\n",
    "s_date = input(\"Enter the period\")"
   ]
  },
  {
   "cell_type": "code",
   "execution_count": 6,
   "metadata": {},
   "outputs": [
    {
     "name": "stdout",
     "output_type": "stream",
     "text": [
      "[*********************100%***********************]  1 of 1 completed\n"
     ]
    },
    {
     "data": {
      "text/html": [
       "<div>\n",
       "<style scoped>\n",
       "    .dataframe tbody tr th:only-of-type {\n",
       "        vertical-align: middle;\n",
       "    }\n",
       "\n",
       "    .dataframe tbody tr th {\n",
       "        vertical-align: top;\n",
       "    }\n",
       "\n",
       "    .dataframe thead th {\n",
       "        text-align: right;\n",
       "    }\n",
       "</style>\n",
       "<table border=\"1\" class=\"dataframe\">\n",
       "  <thead>\n",
       "    <tr style=\"text-align: right;\">\n",
       "      <th></th>\n",
       "      <th>Open</th>\n",
       "      <th>High</th>\n",
       "      <th>Low</th>\n",
       "      <th>Close</th>\n",
       "      <th>Adj Close</th>\n",
       "      <th>Volume</th>\n",
       "    </tr>\n",
       "    <tr>\n",
       "      <th>Date</th>\n",
       "      <th></th>\n",
       "      <th></th>\n",
       "      <th></th>\n",
       "      <th></th>\n",
       "      <th></th>\n",
       "      <th></th>\n",
       "    </tr>\n",
       "  </thead>\n",
       "  <tbody>\n",
       "    <tr>\n",
       "      <th>2022-03-11</th>\n",
       "      <td>39439.968750</td>\n",
       "      <td>40081.679688</td>\n",
       "      <td>38347.433594</td>\n",
       "      <td>38794.972656</td>\n",
       "      <td>38794.972656</td>\n",
       "      <td>26364890465</td>\n",
       "    </tr>\n",
       "    <tr>\n",
       "      <th>2022-03-12</th>\n",
       "      <td>38794.464844</td>\n",
       "      <td>39308.597656</td>\n",
       "      <td>38772.535156</td>\n",
       "      <td>38904.011719</td>\n",
       "      <td>38904.011719</td>\n",
       "      <td>14616450657</td>\n",
       "    </tr>\n",
       "    <tr>\n",
       "      <th>2022-03-13</th>\n",
       "      <td>38884.726562</td>\n",
       "      <td>39209.351562</td>\n",
       "      <td>37728.144531</td>\n",
       "      <td>37849.664062</td>\n",
       "      <td>37849.664062</td>\n",
       "      <td>17300745310</td>\n",
       "    </tr>\n",
       "    <tr>\n",
       "      <th>2022-03-14</th>\n",
       "      <td>37846.316406</td>\n",
       "      <td>39742.500000</td>\n",
       "      <td>37680.734375</td>\n",
       "      <td>39666.753906</td>\n",
       "      <td>39666.753906</td>\n",
       "      <td>24322159070</td>\n",
       "    </tr>\n",
       "    <tr>\n",
       "      <th>2022-03-15</th>\n",
       "      <td>39664.250000</td>\n",
       "      <td>39794.628906</td>\n",
       "      <td>38310.210938</td>\n",
       "      <td>39338.785156</td>\n",
       "      <td>39338.785156</td>\n",
       "      <td>23934000868</td>\n",
       "    </tr>\n",
       "  </tbody>\n",
       "</table>\n",
       "</div>"
      ],
      "text/plain": [
       "                    Open          High           Low         Close  \\\n",
       "Date                                                                 \n",
       "2022-03-11  39439.968750  40081.679688  38347.433594  38794.972656   \n",
       "2022-03-12  38794.464844  39308.597656  38772.535156  38904.011719   \n",
       "2022-03-13  38884.726562  39209.351562  37728.144531  37849.664062   \n",
       "2022-03-14  37846.316406  39742.500000  37680.734375  39666.753906   \n",
       "2022-03-15  39664.250000  39794.628906  38310.210938  39338.785156   \n",
       "\n",
       "               Adj Close       Volume  \n",
       "Date                                   \n",
       "2022-03-11  38794.972656  26364890465  \n",
       "2022-03-12  38904.011719  14616450657  \n",
       "2022-03-13  37849.664062  17300745310  \n",
       "2022-03-14  39666.753906  24322159070  \n",
       "2022-03-15  39338.785156  23934000868  "
      ]
     },
     "execution_count": 6,
     "metadata": {},
     "output_type": "execute_result"
    }
   ],
   "source": [
    "BTC_USD = yf.download(\"BTC-USD\", period= s_date)\n",
    "BTC_USD.head()"
   ]
  },
  {
   "cell_type": "code",
   "execution_count": null,
   "metadata": {},
   "outputs": [],
   "source": []
  }
 ],
 "metadata": {
  "kernelspec": {
   "display_name": "Python 3",
   "language": "python",
   "name": "python3"
  },
  "language_info": {
   "codemirror_mode": {
    "name": "ipython",
    "version": 3
   },
   "file_extension": ".py",
   "mimetype": "text/x-python",
   "name": "python",
   "nbconvert_exporter": "python",
   "pygments_lexer": "ipython3",
   "version": "3.9.13"
  },
  "orig_nbformat": 4
 },
 "nbformat": 4,
 "nbformat_minor": 2
}
